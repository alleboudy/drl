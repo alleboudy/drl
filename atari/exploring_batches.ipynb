{
 "cells": [
  {
   "cell_type": "code",
   "execution_count": 1,
   "metadata": {},
   "outputs": [],
   "source": [
    "# in this notebook, we watch the batch and try fancy tf and torch functions"
   ]
  },
  {
   "cell_type": "code",
   "execution_count": 2,
   "metadata": {},
   "outputs": [],
   "source": [
    "import pickle\n",
    "import torch\n",
    "import gym\n",
    "from lib import wrappers\n",
    "from lib import tf_dqn_model\n",
    "from lib import dqN_model2"
   ]
  },
  {
   "cell_type": "code",
   "execution_count": null,
   "metadata": {},
   "outputs": [],
   "source": []
  },
  {
   "cell_type": "code",
   "execution_count": 3,
   "metadata": {},
   "outputs": [],
   "source": [
    "batch = None\n",
    "with open('batch.pkl', 'rb') as f:\n",
    "    batch = pickle.load(f)\n",
    "GAMMA = 0.99"
   ]
  },
  {
   "cell_type": "code",
   "execution_count": 4,
   "metadata": {},
   "outputs": [],
   "source": [
    "states, actions, rewards, dones, next_states = batch\n",
    "device=\"cpu\""
   ]
  },
  {
   "cell_type": "code",
   "execution_count": 5,
   "metadata": {},
   "outputs": [],
   "source": [
    "env = wrappers.make_env(\"PongNoFrameskip-v4\")\n",
    "net =dqN_model2.DQN(env.observation_space.shape,env.action_space.n).to(device)\n",
    "tf_net = tf_dqn_model.DQN(env.observation_space.shape,env.action_space.n)\n",
    "tf_tgt_net = tf_dqn_model.DQN(env.observation_space.shape,env.action_space.n)"
   ]
  },
  {
   "cell_type": "code",
   "execution_count": 6,
   "metadata": {},
   "outputs": [],
   "source": [
    "states_v = torch.tensor(states).to(device)\n",
    "actions_v = torch.tensor(actions).to(device)\n",
    "rewards_v = torch.tensor(rewards).to(device)\n",
    "done_mask = torch.BoolTensor(dones).to(device)\n",
    "next_states_v = torch.tensor(next_states).to(device)\n",
    "state_action_values = net(states_v).gather(1, actions_v.unsqueeze(-1)).squeeze(-1)"
   ]
  },
  {
   "cell_type": "code",
   "execution_count": 7,
   "metadata": {},
   "outputs": [
    {
     "data": {
      "text/plain": [
       "torch.Size([32, 6])"
      ]
     },
     "execution_count": 7,
     "metadata": {},
     "output_type": "execute_result"
    }
   ],
   "source": [
    "net(states_v).shape"
   ]
  },
  {
   "cell_type": "code",
   "execution_count": 8,
   "metadata": {},
   "outputs": [
    {
     "data": {
      "text/plain": [
       "torch.Size([32])"
      ]
     },
     "execution_count": 8,
     "metadata": {},
     "output_type": "execute_result"
    }
   ],
   "source": [
    "actions_v.shape"
   ]
  },
  {
   "cell_type": "code",
   "execution_count": 9,
   "metadata": {},
   "outputs": [
    {
     "data": {
      "text/plain": [
       "torch.Size([32, 1])"
      ]
     },
     "execution_count": 9,
     "metadata": {},
     "output_type": "execute_result"
    }
   ],
   "source": [
    "actions_v.unsqueeze(-1).shape"
   ]
  },
  {
   "cell_type": "code",
   "execution_count": 10,
   "metadata": {},
   "outputs": [
    {
     "data": {
      "text/plain": [
       "torch.Size([32, 1])"
      ]
     },
     "execution_count": 10,
     "metadata": {},
     "output_type": "execute_result"
    }
   ],
   "source": [
    "net(states_v).gather(1, actions_v.unsqueeze(-1)).shape"
   ]
  },
  {
   "cell_type": "code",
   "execution_count": 11,
   "metadata": {},
   "outputs": [
    {
     "data": {
      "text/plain": [
       "torch.Size([32])"
      ]
     },
     "execution_count": 11,
     "metadata": {},
     "output_type": "execute_result"
    }
   ],
   "source": [
    "state_action_values.shape"
   ]
  },
  {
   "cell_type": "code",
   "execution_count": 12,
   "metadata": {},
   "outputs": [
    {
     "data": {
      "text/plain": [
       "True"
      ]
     },
     "execution_count": 12,
     "metadata": {},
     "output_type": "execute_result"
    }
   ],
   "source": [
    "import tensorflow as tf\n",
    "tf.executing_eagerly()\n"
   ]
  },
  {
   "cell_type": "code",
   "execution_count": 13,
   "metadata": {},
   "outputs": [],
   "source": [
    "states, actions, rewards, dones, next_states = batch\n",
    "states_v = tf.convert_to_tensor(states, tf.float32)\n",
    "actions_v = tf.convert_to_tensor(actions, tf.int64)\n",
    "rewards_v = tf.convert_to_tensor(rewards, tf.float32)\n",
    "done_mask = tf.convert_to_tensor(dones, dtype=tf.bool)\n",
    "done_mask = tf.expand_dims(tf.cast(done_mask, dtype=tf.float32), axis=1)\n",
    "next_states_v = tf.convert_to_tensor(next_states, tf.float32)\n",
    "#state_action_values = tf.squeeze( tf.gather_nd(net(states_v),tf.expand_dims(actions_v, -1)), -1)"
   ]
  },
  {
   "cell_type": "code",
   "execution_count": 14,
   "metadata": {},
   "outputs": [],
   "source": [
    "def torch_gather(x, indices, gather_axis):\n",
    "    # if pytorch gather indices are\n",
    "    # [[[0, 10, 20], [0, 10, 20], [0, 10, 20]],\n",
    "    #  [[0, 10, 20], [0, 10, 20], [0, 10, 20]]]\n",
    "    # tf nd_gather needs to be\n",
    "    # [[0,0,0], [0,0,10], [0,0,20], [0,1,0], [0,1,10], [0,1,20], [0,2,0], [0,2,10], [0,2,20],\n",
    "    #  [1,0,0], [1,0,10], [1,0,20], [1,1,0], [1,1,10], [1,1,20], [1,2,0], [1,2,10], [1,2,20]]\n",
    "\n",
    "    # create a tensor containing indices of each element\n",
    "    all_indices = tf.where(tf.fill(indices.shape, True))\n",
    "    gather_locations = tf.reshape(indices, [indices.shape.num_elements()])\n",
    "\n",
    "    # splice in our pytorch style index at the correct axis\n",
    "    gather_indices = []\n",
    "    for axis in range(len(indices.shape)):\n",
    "        if axis == gather_axis:\n",
    "            gather_indices.append(gather_locations)\n",
    "        else:\n",
    "            gather_indices.append(all_indices[:, axis])\n",
    "\n",
    "    gather_indices = tf.stack(gather_indices, axis=-1)\n",
    "    gathered = tf.gather_nd(x, gather_indices)\n",
    "    reshaped = tf.reshape(gathered, indices.shape)\n",
    "    return reshaped"
   ]
  },
  {
   "cell_type": "code",
   "execution_count": 15,
   "metadata": {},
   "outputs": [],
   "source": [
    "@tf.function\n",
    "def train_step(batch):\n",
    "    with tf.GradientTape() as tape:\n",
    "        states, actions, rewards, dones, next_states = batch\n",
    "        states_v = tf.convert_to_tensor(states, tf.float32)\n",
    "        actions_v = tf.convert_to_tensor(actions, tf.int64)\n",
    "        rewards_v = tf.convert_to_tensor(rewards, tf.float32)\n",
    "        done_mask = tf.convert_to_tensor(dones, dtype=tf.uint8)\n",
    "        done_mask = tf.cast(done_mask, dtype=tf.float32)\n",
    "        next_states_v = tf.convert_to_tensor(next_states, tf.float32)\n",
    "        state_action_values = tf.squeeze(torch_gather(tf_net(states_v),tf.expand_dims(actions_v, -1),1), -1)\n",
    "        #print(\"state_action_values\",state_action_values.shape)\n",
    "        #print(\"tf.math.reduce_max(tgt_net(next_states_v),1,False)\", tf.math.reduce_max(tgt_net(next_states_v),1).shape)\n",
    "        next_states_values =  tf.math.reduce_max(tf_tgt_net(next_states_v),1) * done_mask\n",
    "        #print(\"done_mask\", done_mask.shape)\n",
    "        #print(\"next_states_values\",next_states_values.shape)\n",
    "        print(\"next_states_values\",next_states_values.shape)\n",
    "        print(\"rewards_v\", rewards_v.shape)\n",
    "        expected_state_action_values = rewards_v + next_states_values * GAMMA\n",
    "        #print(\"expected_state_action_values\",expected_state_action_values.shape)\n",
    "#         loss = loss_object(state_action_values, expected_state_action_values)\n",
    "#         gradients = tape.gradient(loss, net.trainable_variables)\n",
    "#         optimizer.apply_gradients(zip(gradients, net.trainable_variables))"
   ]
  },
  {
   "cell_type": "code",
   "execution_count": 16,
   "metadata": {},
   "outputs": [
    {
     "name": "stdout",
     "output_type": "stream",
     "text": [
      "next_states_values (32,)\n",
      "rewards_v (32,)\n",
      "next_states_values (32,)\n",
      "rewards_v (32,)\n"
     ]
    }
   ],
   "source": [
    "train_step(batch)"
   ]
  },
  {
   "cell_type": "code",
   "execution_count": 21,
   "metadata": {},
   "outputs": [],
   "source": [
    "states, actions, rewards, dones, next_states = batch"
   ]
  },
  {
   "cell_type": "code",
   "execution_count": 29,
   "metadata": {},
   "outputs": [],
   "source": [
    "import numpy as np"
   ]
  },
  {
   "cell_type": "code",
   "execution_count": 34,
   "metadata": {},
   "outputs": [
    {
     "data": {
      "text/plain": [
       "array([ True,  True,  True,  True,  True,  True,  True,  True,  True,\n",
       "        True,  True,  True,  True,  True,  True,  True,  True,  True,\n",
       "        True,  True,  True,  True,  True,  True,  True,  True,  True,\n",
       "        True,  True,  True,  True,  True])"
      ]
     },
     "execution_count": 34,
     "metadata": {},
     "output_type": "execute_result"
    }
   ],
   "source": [
    "~np.asarray(dones,np.bool)"
   ]
  },
  {
   "cell_type": "code",
   "execution_count": 23,
   "metadata": {},
   "outputs": [
    {
     "data": {
      "text/plain": [
       "-2"
      ]
     },
     "execution_count": 23,
     "metadata": {},
     "output_type": "execute_result"
    }
   ],
   "source": [
    "~1"
   ]
  },
  {
   "cell_type": "code",
   "execution_count": null,
   "metadata": {},
   "outputs": [],
   "source": []
  }
 ],
 "metadata": {
  "kernelspec": {
   "display_name": "Python 3",
   "language": "python",
   "name": "python3"
  },
  "language_info": {
   "codemirror_mode": {
    "name": "ipython",
    "version": 3
   },
   "file_extension": ".py",
   "mimetype": "text/x-python",
   "name": "python",
   "nbconvert_exporter": "python",
   "pygments_lexer": "ipython3",
   "version": "3.6.9"
  }
 },
 "nbformat": 4,
 "nbformat_minor": 4
}
